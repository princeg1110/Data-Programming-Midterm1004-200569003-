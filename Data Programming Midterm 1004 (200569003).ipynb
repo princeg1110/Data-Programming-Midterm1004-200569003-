{
 "cells": [
  {
   "cell_type": "markdown",
   "id": "6560de5b",
   "metadata": {},
   "source": [
    "# Question 21:\n",
    "\n",
    "In a jupyter notebook solve the following question. Please upload the notebook to GitHub and provide the link submission box below.\n",
    "\n",
    " \n",
    "\n",
    "__int()__: Constructor that takes as input a pair of Point objects that represent the ends points of the line segment\n",
    "\n",
    "Length():: returns the length if the segment \n",
    "\n",
    "Slope() returns the slope of the segment of none if the slope is unbounded \n",
    "\n",
    " \n",
    "\n",
    ">>> p1 = Point(3,4)\n",
    "\n",
    ">>> p2 = Point()\n",
    "\n",
    ">>> s = Segment(p1,p2)\n",
    "\n",
    ">>> s.length()\n",
    "\n",
    "5.0\n",
    "\n",
    ">>> s.slope()\n",
    "\n",
    "0.75"
   ]
  },
  {
   "cell_type": "code",
   "execution_count": 7,
   "id": "ffb8348d",
   "metadata": {},
   "outputs": [
    {
     "name": "stdout",
     "output_type": "stream",
     "text": [
      "Length: 5.0\n",
      "Slope: 1.3333333333333333\n"
     ]
    }
   ],
   "source": [
    "class Point:\n",
    "    def __init__(self, x=0, y=0):\n",
    "        self.x = x\n",
    "        self.y = y\n",
    "\n",
    "class Segment:\n",
    "    def __init__(self, point1, point2):\n",
    "        self.point1 = point1\n",
    "        self.point2 = point2\n",
    "\n",
    "    def length(self):\n",
    "        dx = self.point1.x - self.point2.x\n",
    "        dy = self.point1.y - self.point2.y\n",
    "        return (dx ** 2 + dy ** 2) ** 0.5\n",
    "\n",
    "    def slope(self):\n",
    "        if self.point1.x == self.point2.x:\n",
    "            return None\n",
    "        return (self.point1.y - self.point2.y) / (self.point1.x - self.point2.x)\n",
    "\n",
    "# Create Point objects\n",
    "p1 = Point(3, 4)\n",
    "p2 = Point()\n",
    "\n",
    "# Create a Segment object\n",
    "s = Segment(p1, p2)\n",
    "\n",
    "# Calculate length and slope\n",
    "length = s.length()\n",
    "slope = s.slope()\n",
    "\n",
    "print(\"Length:\", length)\n",
    "print(\"Slope:\", slope)"
   ]
  },
  {
   "cell_type": "markdown",
   "id": "ff2c652a",
   "metadata": {},
   "source": [
    "# Question 22:\n",
    "\n",
    "In a jupyter notebook solve the following question using both python and SQL. Please upload the notebook to GitHub and provide the link submission box below.\n",
    "\n",
    "\n",
    "\n",
    "+---------------+---------+\n",
    "| Column Name   | Type    |\n",
    "+---------------+---------+\n",
    "| id            | int     |\n",
    "| recordDate    | date    |\n",
    "| temperature   | int     |\n",
    "+---------------+---------+\n",
    "id is the column with unique values for this table.\n",
    "This table contains information about the temperature on a certain day.\n",
    " \n",
    " \n",
    "\n",
    "Write a solution to find all dates' Id with higher temperatures compared to its previous dates (yesterday).\n",
    "\n",
    "Return the result table in any order.\n",
    "\n",
    "Please use the following input Weather table for your solution. To receive full marks you will need to create the database, create the table, insert the data below and execute the SQL query."
   ]
  },
  {
   "cell_type": "code",
   "execution_count": 2,
   "id": "493f300e",
   "metadata": {},
   "outputs": [
    {
     "name": "stdout",
     "output_type": "stream",
     "text": [
      "Collecting ipython-sql\n",
      "  Downloading ipython_sql-0.5.0-py3-none-any.whl (20 kB)\n",
      "Collecting prettytable (from ipython-sql)\n",
      "  Obtaining dependency information for prettytable from https://files.pythonhosted.org/packages/4d/81/316b6a55a0d1f327d04cc7b0ba9d04058cb62de6c3a4d4b0df280cbe3b0b/prettytable-3.9.0-py3-none-any.whl.metadata\n",
      "  Downloading prettytable-3.9.0-py3-none-any.whl.metadata (26 kB)\n",
      "Requirement already satisfied: ipython in c:\\users\\princ\\anaconda3\\lib\\site-packages (from ipython-sql) (8.12.0)\n",
      "Collecting sqlalchemy>=2.0 (from ipython-sql)\n",
      "  Obtaining dependency information for sqlalchemy>=2.0 from https://files.pythonhosted.org/packages/67/e7/7c77fd5290646f929b499992607cf1bc940573098a593080fcc8f7e13a08/SQLAlchemy-2.0.23-cp311-cp311-win_amd64.whl.metadata\n",
      "  Downloading SQLAlchemy-2.0.23-cp311-cp311-win_amd64.whl.metadata (9.8 kB)\n",
      "Collecting sqlparse (from ipython-sql)\n",
      "  Downloading sqlparse-0.4.4-py3-none-any.whl (41 kB)\n",
      "     ---------------------------------------- 0.0/41.2 kB ? eta -:--:--\n",
      "     ---------------------------------------- 41.2/41.2 kB 2.1 MB/s eta 0:00:00\n",
      "Requirement already satisfied: six in c:\\users\\princ\\anaconda3\\lib\\site-packages (from ipython-sql) (1.16.0)\n",
      "Requirement already satisfied: ipython-genutils in c:\\users\\princ\\anaconda3\\lib\\site-packages (from ipython-sql) (0.2.0)\n",
      "Requirement already satisfied: typing-extensions>=4.2.0 in c:\\users\\princ\\anaconda3\\lib\\site-packages (from sqlalchemy>=2.0->ipython-sql) (4.7.1)\n",
      "Requirement already satisfied: greenlet!=0.4.17 in c:\\users\\princ\\anaconda3\\lib\\site-packages (from sqlalchemy>=2.0->ipython-sql) (2.0.1)\n",
      "Requirement already satisfied: backcall in c:\\users\\princ\\anaconda3\\lib\\site-packages (from ipython->ipython-sql) (0.2.0)\n",
      "Requirement already satisfied: decorator in c:\\users\\princ\\anaconda3\\lib\\site-packages (from ipython->ipython-sql) (5.1.1)\n",
      "Requirement already satisfied: jedi>=0.16 in c:\\users\\princ\\anaconda3\\lib\\site-packages (from ipython->ipython-sql) (0.18.1)\n",
      "Requirement already satisfied: matplotlib-inline in c:\\users\\princ\\anaconda3\\lib\\site-packages (from ipython->ipython-sql) (0.1.6)\n",
      "Requirement already satisfied: pickleshare in c:\\users\\princ\\anaconda3\\lib\\site-packages (from ipython->ipython-sql) (0.7.5)\n",
      "Requirement already satisfied: prompt-toolkit!=3.0.37,<3.1.0,>=3.0.30 in c:\\users\\princ\\anaconda3\\lib\\site-packages (from ipython->ipython-sql) (3.0.36)\n",
      "Requirement already satisfied: pygments>=2.4.0 in c:\\users\\princ\\anaconda3\\lib\\site-packages (from ipython->ipython-sql) (2.15.1)\n",
      "Requirement already satisfied: stack-data in c:\\users\\princ\\anaconda3\\lib\\site-packages (from ipython->ipython-sql) (0.2.0)\n",
      "Requirement already satisfied: traitlets>=5 in c:\\users\\princ\\anaconda3\\lib\\site-packages (from ipython->ipython-sql) (5.7.1)\n",
      "Requirement already satisfied: colorama in c:\\users\\princ\\anaconda3\\lib\\site-packages (from ipython->ipython-sql) (0.4.6)\n",
      "Requirement already satisfied: wcwidth in c:\\users\\princ\\anaconda3\\lib\\site-packages (from prettytable->ipython-sql) (0.2.5)\n",
      "Requirement already satisfied: parso<0.9.0,>=0.8.0 in c:\\users\\princ\\anaconda3\\lib\\site-packages (from jedi>=0.16->ipython->ipython-sql) (0.8.3)\n",
      "Requirement already satisfied: executing in c:\\users\\princ\\anaconda3\\lib\\site-packages (from stack-data->ipython->ipython-sql) (0.8.3)\n",
      "Requirement already satisfied: asttokens in c:\\users\\princ\\anaconda3\\lib\\site-packages (from stack-data->ipython->ipython-sql) (2.0.5)\n",
      "Requirement already satisfied: pure-eval in c:\\users\\princ\\anaconda3\\lib\\site-packages (from stack-data->ipython->ipython-sql) (0.2.2)\n",
      "Downloading SQLAlchemy-2.0.23-cp311-cp311-win_amd64.whl (2.1 MB)\n",
      "   ---------------------------------------- 0.0/2.1 MB ? eta -:--:--\n",
      "   ---- ----------------------------------- 0.2/2.1 MB 5.0 MB/s eta 0:00:01\n",
      "   ----------- ---------------------------- 0.6/2.1 MB 6.3 MB/s eta 0:00:01\n",
      "   ------------------- -------------------- 1.0/2.1 MB 7.0 MB/s eta 0:00:01\n",
      "   --------------------------- ------------ 1.4/2.1 MB 7.4 MB/s eta 0:00:01\n",
      "   -------------------------------- ------- 1.7/2.1 MB 7.0 MB/s eta 0:00:01\n",
      "   ---------------------------------------  2.1/2.1 MB 7.7 MB/s eta 0:00:01\n",
      "   ---------------------------------------- 2.1/2.1 MB 7.3 MB/s eta 0:00:00\n",
      "Downloading prettytable-3.9.0-py3-none-any.whl (27 kB)\n",
      "Installing collected packages: sqlparse, sqlalchemy, prettytable, ipython-sql\n",
      "  Attempting uninstall: sqlalchemy\n",
      "    Found existing installation: SQLAlchemy 1.4.39\n",
      "    Uninstalling SQLAlchemy-1.4.39:\n",
      "      Successfully uninstalled SQLAlchemy-1.4.39\n",
      "Successfully installed ipython-sql-0.5.0 prettytable-3.9.0 sqlalchemy-2.0.23 sqlparse-0.4.4\n",
      "Note: you may need to restart the kernel to use updated packages.\n"
     ]
    }
   ],
   "source": [
    "pip install ipython-sql"
   ]
  },
  {
   "cell_type": "code",
   "execution_count": 3,
   "id": "0b77c11a",
   "metadata": {},
   "outputs": [],
   "source": [
    "%load_ext sql\n",
    "%sql sqlite://"
   ]
  },
  {
   "cell_type": "code",
   "execution_count": 4,
   "id": "5931f2b7",
   "metadata": {},
   "outputs": [
    {
     "name": "stdout",
     "output_type": "stream",
     "text": [
      " * sqlite://\n",
      "Done.\n"
     ]
    },
    {
     "data": {
      "text/plain": [
       "[]"
      ]
     },
     "execution_count": 4,
     "metadata": {},
     "output_type": "execute_result"
    }
   ],
   "source": [
    "%%sql\n",
    "CREATE TABLE IF NOT EXISTS weather (\n",
    "    id INT,\n",
    "    recordDate DATE,\n",
    "    Temperature INT\n",
    ");"
   ]
  },
  {
   "cell_type": "code",
   "execution_count": 5,
   "id": "63f1a9de",
   "metadata": {},
   "outputs": [
    {
     "name": "stdout",
     "output_type": "stream",
     "text": [
      " * sqlite://\n",
      "4 rows affected.\n"
     ]
    },
    {
     "data": {
      "text/plain": [
       "[]"
      ]
     },
     "execution_count": 5,
     "metadata": {},
     "output_type": "execute_result"
    }
   ],
   "source": [
    "%%sql\n",
    "\n",
    "INSERT INTO Weather (id, recordDate, temperature)\n",
    "VALUES\n",
    "    (1, '2015-01-01', 10),\n",
    "    (2, '2015-01-02', 25),\n",
    "    (3, '2015-01-03', 20),\n",
    "    (4, '2015-01-04', 30);"
   ]
  },
  {
   "cell_type": "code",
   "execution_count": 6,
   "id": "e384770f",
   "metadata": {},
   "outputs": [
    {
     "name": "stdout",
     "output_type": "stream",
     "text": [
      " * sqlite://\n",
      "Done.\n"
     ]
    },
    {
     "data": {
      "text/html": [
       "<table>\n",
       "    <thead>\n",
       "        <tr>\n",
       "            <th>id</th>\n",
       "        </tr>\n",
       "    </thead>\n",
       "    <tbody>\n",
       "        <tr>\n",
       "            <td>2</td>\n",
       "        </tr>\n",
       "        <tr>\n",
       "            <td>4</td>\n",
       "        </tr>\n",
       "    </tbody>\n",
       "</table>"
      ],
      "text/plain": [
       "[(2,), (4,)]"
      ]
     },
     "execution_count": 6,
     "metadata": {},
     "output_type": "execute_result"
    }
   ],
   "source": [
    "%%sql\n",
    "SELECT w1.id\n",
    "FROM Weather w1\n",
    "JOIN Weather w2 ON w1.recordDate = date(w2.recordDate, '+1 day')\n",
    "WHERE w1.Temperature > w2.Temperature"
   ]
  },
  {
   "cell_type": "markdown",
   "id": "9cb5c280",
   "metadata": {},
   "source": [
    "# Question 23:\n",
    "\n",
    "In a jupyter notebook solve the following question using python. Please upload the notebook to GitHub and provide the link submission box below.\n",
    "\n",
    "\n",
    "\n",
    "Develop a recursive function tough() that takes two nonnegative integer arguments and outputs a pattern as shown below. Hint: The first argument represents the indentation of the pattern, where the second argument -- always a pattern of 2 indicates the number *s in the longest line of *s in the pattern"
   ]
  },
  {
   "cell_type": "code",
   "execution_count": 8,
   "id": "6c56cb50",
   "metadata": {},
   "outputs": [
    {
     "name": "stdout",
     "output_type": "stream",
     "text": [
      "=====================\n",
      "*\n",
      "=====================\n",
      "*\n",
      "**\n",
      " *\n",
      "=====================\n",
      "*\n",
      "**\n",
      " *\n",
      "****\n",
      "  *\n",
      "  **\n",
      "   *\n"
     ]
    }
   ],
   "source": [
    "def f(indent, num):\n",
    "    if num > 0:\n",
    "        f(indent, num // 2)\n",
    "        print(\" \" * indent + \"*\" * num)\n",
    "        f(indent + num // 2, num // 2)\n",
    "\n",
    "f(0, 0)\n",
    "print(\"=====================\")\n",
    "f(0, 1)\n",
    "print(\"=====================\")\n",
    "f(0, 2)\n",
    "print(\"=====================\")\n",
    "f(0, 4)"
   ]
  },
  {
   "cell_type": "code",
   "execution_count": null,
   "id": "48bcaaf7",
   "metadata": {},
   "outputs": [],
   "source": []
  }
 ],
 "metadata": {
  "kernelspec": {
   "display_name": "Python 3 (ipykernel)",
   "language": "python",
   "name": "python3"
  },
  "language_info": {
   "codemirror_mode": {
    "name": "ipython",
    "version": 3
   },
   "file_extension": ".py",
   "mimetype": "text/x-python",
   "name": "python",
   "nbconvert_exporter": "python",
   "pygments_lexer": "ipython3",
   "version": "3.11.4"
  }
 },
 "nbformat": 4,
 "nbformat_minor": 5
}
